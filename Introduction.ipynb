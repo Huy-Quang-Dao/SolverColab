{
  "cells": [
    {
      "cell_type": "markdown",
      "source": [
        "# Installations\n",
        "\n"
      ],
      "metadata": {
        "id": "Ne2opUrSxdkU"
      }
    },
    {
      "cell_type": "markdown",
      "source": [
        "## 1. Google Colab"
      ],
      "metadata": {
        "id": "Ok0lSLsaxubD"
      }
    },
    {
      "cell_type": "code",
      "source": [
        "!pip install -q pyomo"
      ],
      "metadata": {
        "id": "rWTUUz7zxli6"
      },
      "execution_count": 1,
      "outputs": []
    },
    {
      "cell_type": "markdown",
      "source": [
        "### glpk"
      ],
      "metadata": {
        "id": "ia5t3Hps2_yr"
      }
    },
    {
      "cell_type": "code",
      "source": [
        "!apt-get install -y -qq glpk-utils"
      ],
      "metadata": {
        "colab": {
          "base_uri": "https://localhost:8080/"
        },
        "id": "6GAy93g_3EyL",
        "outputId": "8c9f45d7-87da-47a9-f8b3-44b3d32469b0"
      },
      "execution_count": 2,
      "outputs": [
        {
          "output_type": "stream",
          "name": "stdout",
          "text": [
            "Selecting previously unselected package libsuitesparseconfig5:amd64.\n",
            "(Reading database ... 124926 files and directories currently installed.)\n",
            "Preparing to unpack .../libsuitesparseconfig5_1%3a5.10.1+dfsg-4build1_amd64.deb ...\n",
            "Unpacking libsuitesparseconfig5:amd64 (1:5.10.1+dfsg-4build1) ...\n",
            "Selecting previously unselected package libamd2:amd64.\n",
            "Preparing to unpack .../libamd2_1%3a5.10.1+dfsg-4build1_amd64.deb ...\n",
            "Unpacking libamd2:amd64 (1:5.10.1+dfsg-4build1) ...\n",
            "Selecting previously unselected package libcolamd2:amd64.\n",
            "Preparing to unpack .../libcolamd2_1%3a5.10.1+dfsg-4build1_amd64.deb ...\n",
            "Unpacking libcolamd2:amd64 (1:5.10.1+dfsg-4build1) ...\n",
            "Selecting previously unselected package libglpk40:amd64.\n",
            "Preparing to unpack .../libglpk40_5.0-1_amd64.deb ...\n",
            "Unpacking libglpk40:amd64 (5.0-1) ...\n",
            "Selecting previously unselected package glpk-utils.\n",
            "Preparing to unpack .../glpk-utils_5.0-1_amd64.deb ...\n",
            "Unpacking glpk-utils (5.0-1) ...\n",
            "Setting up libsuitesparseconfig5:amd64 (1:5.10.1+dfsg-4build1) ...\n",
            "Setting up libamd2:amd64 (1:5.10.1+dfsg-4build1) ...\n",
            "Setting up libcolamd2:amd64 (1:5.10.1+dfsg-4build1) ...\n",
            "Setting up libglpk40:amd64 (5.0-1) ...\n",
            "Setting up glpk-utils (5.0-1) ...\n",
            "Processing triggers for man-db (2.10.2-1) ...\n",
            "Processing triggers for libc-bin (2.35-0ubuntu3.8) ...\n",
            "/sbin/ldconfig.real: /usr/local/lib/libumf.so.0 is not a symbolic link\n",
            "\n",
            "/sbin/ldconfig.real: /usr/local/lib/libtcm.so.1 is not a symbolic link\n",
            "\n",
            "/sbin/ldconfig.real: /usr/local/lib/libhwloc.so.15 is not a symbolic link\n",
            "\n",
            "/sbin/ldconfig.real: /usr/local/lib/libur_adapter_level_zero.so.0 is not a symbolic link\n",
            "\n",
            "/sbin/ldconfig.real: /usr/local/lib/libtbbbind_2_0.so.3 is not a symbolic link\n",
            "\n",
            "/sbin/ldconfig.real: /usr/local/lib/libur_adapter_opencl.so.0 is not a symbolic link\n",
            "\n",
            "/sbin/ldconfig.real: /usr/local/lib/libtbbmalloc_proxy.so.2 is not a symbolic link\n",
            "\n",
            "/sbin/ldconfig.real: /usr/local/lib/libtbbmalloc.so.2 is not a symbolic link\n",
            "\n",
            "/sbin/ldconfig.real: /usr/local/lib/libtcm_debug.so.1 is not a symbolic link\n",
            "\n",
            "/sbin/ldconfig.real: /usr/local/lib/libtbbbind_2_5.so.3 is not a symbolic link\n",
            "\n",
            "/sbin/ldconfig.real: /usr/local/lib/libur_loader.so.0 is not a symbolic link\n",
            "\n",
            "/sbin/ldconfig.real: /usr/local/lib/libtbbbind.so.3 is not a symbolic link\n",
            "\n",
            "/sbin/ldconfig.real: /usr/local/lib/libtbb.so.12 is not a symbolic link\n",
            "\n"
          ]
        }
      ]
    },
    {
      "cell_type": "markdown",
      "source": [
        "### cbc"
      ],
      "metadata": {
        "id": "OpnafNZ03HDi"
      }
    },
    {
      "cell_type": "code",
      "source": [
        "!apt-get install -y -qq coinor-cbc"
      ],
      "metadata": {
        "colab": {
          "base_uri": "https://localhost:8080/"
        },
        "id": "mDHjxlTF3KDD",
        "outputId": "13a769f2-3cd9-4144-da0a-fa7701f0048e"
      },
      "execution_count": 3,
      "outputs": [
        {
          "output_type": "stream",
          "name": "stdout",
          "text": [
            "Selecting previously unselected package coinor-libcoinutils3v5:amd64.\n",
            "(Reading database ... 125129 files and directories currently installed.)\n",
            "Preparing to unpack .../0-coinor-libcoinutils3v5_2.11.4+repack1-2_amd64.deb ...\n",
            "Unpacking coinor-libcoinutils3v5:amd64 (2.11.4+repack1-2) ...\n",
            "Selecting previously unselected package coinor-libosi1v5:amd64.\n",
            "Preparing to unpack .../1-coinor-libosi1v5_0.108.6+repack1-2_amd64.deb ...\n",
            "Unpacking coinor-libosi1v5:amd64 (0.108.6+repack1-2) ...\n",
            "Selecting previously unselected package coinor-libclp1.\n",
            "Preparing to unpack .../2-coinor-libclp1_1.17.5+repack1-1_amd64.deb ...\n",
            "Unpacking coinor-libclp1 (1.17.5+repack1-1) ...\n",
            "Selecting previously unselected package coinor-libcgl1:amd64.\n",
            "Preparing to unpack .../3-coinor-libcgl1_0.60.3+repack1-3_amd64.deb ...\n",
            "Unpacking coinor-libcgl1:amd64 (0.60.3+repack1-3) ...\n",
            "Selecting previously unselected package coinor-libcbc3:amd64.\n",
            "Preparing to unpack .../4-coinor-libcbc3_2.10.7+ds1-1_amd64.deb ...\n",
            "Unpacking coinor-libcbc3:amd64 (2.10.7+ds1-1) ...\n",
            "Selecting previously unselected package coinor-cbc.\n",
            "Preparing to unpack .../5-coinor-cbc_2.10.7+ds1-1_amd64.deb ...\n",
            "Unpacking coinor-cbc (2.10.7+ds1-1) ...\n",
            "Setting up coinor-libcoinutils3v5:amd64 (2.11.4+repack1-2) ...\n",
            "Setting up coinor-libosi1v5:amd64 (0.108.6+repack1-2) ...\n",
            "Setting up coinor-libclp1 (1.17.5+repack1-1) ...\n",
            "Setting up coinor-libcgl1:amd64 (0.60.3+repack1-3) ...\n",
            "Setting up coinor-libcbc3:amd64 (2.10.7+ds1-1) ...\n",
            "Setting up coinor-cbc (2.10.7+ds1-1) ...\n",
            "Processing triggers for man-db (2.10.2-1) ...\n",
            "Processing triggers for libc-bin (2.35-0ubuntu3.8) ...\n",
            "/sbin/ldconfig.real: /usr/local/lib/libumf.so.0 is not a symbolic link\n",
            "\n",
            "/sbin/ldconfig.real: /usr/local/lib/libtcm.so.1 is not a symbolic link\n",
            "\n",
            "/sbin/ldconfig.real: /usr/local/lib/libhwloc.so.15 is not a symbolic link\n",
            "\n",
            "/sbin/ldconfig.real: /usr/local/lib/libur_adapter_level_zero.so.0 is not a symbolic link\n",
            "\n",
            "/sbin/ldconfig.real: /usr/local/lib/libtbbbind_2_0.so.3 is not a symbolic link\n",
            "\n",
            "/sbin/ldconfig.real: /usr/local/lib/libur_adapter_opencl.so.0 is not a symbolic link\n",
            "\n",
            "/sbin/ldconfig.real: /usr/local/lib/libtbbmalloc_proxy.so.2 is not a symbolic link\n",
            "\n",
            "/sbin/ldconfig.real: /usr/local/lib/libtbbmalloc.so.2 is not a symbolic link\n",
            "\n",
            "/sbin/ldconfig.real: /usr/local/lib/libtcm_debug.so.1 is not a symbolic link\n",
            "\n",
            "/sbin/ldconfig.real: /usr/local/lib/libtbbbind_2_5.so.3 is not a symbolic link\n",
            "\n",
            "/sbin/ldconfig.real: /usr/local/lib/libur_loader.so.0 is not a symbolic link\n",
            "\n",
            "/sbin/ldconfig.real: /usr/local/lib/libtbbbind.so.3 is not a symbolic link\n",
            "\n",
            "/sbin/ldconfig.real: /usr/local/lib/libtbb.so.12 is not a symbolic link\n",
            "\n"
          ]
        }
      ]
    },
    {
      "cell_type": "markdown",
      "source": [
        "### ipopt"
      ],
      "metadata": {
        "id": "IaSqqUjb236y"
      }
    },
    {
      "cell_type": "code",
      "source": [
        "import sys\n",
        "IN_COLAB = 'google.colab' in sys.modules\n",
        "if IN_COLAB:\n",
        "  !pip install -q pyomo\n",
        "  !wget -N -q \"https://github.com/Huy-Quang-Dao/SolverColab/raw/master/ipopt-linux64.zip\"\n",
        "  !unzip -o -q ipopt-linux64"
      ],
      "metadata": {
        "id": "ORhqzIGI22yj"
      },
      "execution_count": 4,
      "outputs": []
    },
    {
      "cell_type": "code",
      "source": [
        "!file ipopt-linux64.zip\n"
      ],
      "metadata": {
        "colab": {
          "base_uri": "https://localhost:8080/"
        },
        "id": "7273TDWl4fzS",
        "outputId": "79869eac-692c-4cc8-fd07-8f8b3efb0b04"
      },
      "execution_count": 5,
      "outputs": [
        {
          "output_type": "stream",
          "name": "stdout",
          "text": [
            "ipopt-linux64.zip: Zip archive data, at least v2.0 to extract, compression method=deflate\n"
          ]
        }
      ]
    },
    {
      "cell_type": "markdown",
      "source": [
        "### HiGHS"
      ],
      "metadata": {
        "id": "5wpvnvAh6Ze6"
      }
    },
    {
      "cell_type": "code",
      "source": [
        "!pip install highspy"
      ],
      "metadata": {
        "colab": {
          "base_uri": "https://localhost:8080/"
        },
        "id": "Ysj7rHSrGgb4",
        "outputId": "8200bde2-f5cf-43ef-e21b-f2166ebfbc9e"
      },
      "execution_count": 6,
      "outputs": [
        {
          "output_type": "stream",
          "name": "stdout",
          "text": [
            "Requirement already satisfied: highspy in /usr/local/lib/python3.11/dist-packages (1.9.0)\n",
            "Requirement already satisfied: numpy in /usr/local/lib/python3.11/dist-packages (from highspy) (1.26.4)\n"
          ]
        }
      ]
    },
    {
      "cell_type": "markdown",
      "metadata": {
        "id": "lon1SMYTxZs8"
      },
      "source": [
        "# A Step-by-Step Introduction for Pyomo Implementation"
      ]
    },
    {
      "cell_type": "markdown",
      "metadata": {
        "id": "tkxocpvExZs-"
      },
      "source": [
        "## 1. Linear Programming Formulation for Diet Problem\n",
        "\n",
        "### Problem Statement\n",
        "\n",
        "A dietitian is planning a meal that meets the daily nutritional requirements for calories, protein, and vitamins at a minimum cost.\n",
        "\n",
        "| Food Item | Cost (\\$) | Calories | Protein (g) | Vitamins (\\% Daily) |\n",
        "|-----------|-----------|----------|-------------|----------------------|\n",
        "| Apple     | 1         | 100      | 0.5         | 2                    |\n",
        "| Bread     | 0.50      | 200      | 4           | 0                    |\n",
        "| Milk      | 2         | 150      | 8           | 10                   |\n",
        "| Egg       | 0.30      | 70       | 6           | 0                    |\n",
        "\n",
        "**Daily Nutritional Requirements:**\n",
        "- Calories: 500\n",
        "- Protein: 50g\n",
        "- Vitamins: 100\\%\n",
        "\n",
        "Now we look forward to how a dietitian can bank on solving a LP model for the desired objective.\n",
        "\n",
        "\n"
      ]
    },
    {
      "cell_type": "code",
      "execution_count": 13,
      "metadata": {
        "id": "KJW9ZbPtxZs_"
      },
      "outputs": [],
      "source": [
        "from pyomo.environ import *\n",
        "\n",
        "# Model\n",
        "model = ConcreteModel()\n",
        "\n",
        "# Sets\n",
        "model.foods = Set(initialize=['Apple', 'Bread', 'Milk', 'Egg'])\n",
        "model.nutrients = Set(initialize=['Calories', 'Protein', 'Vitamins'])\n",
        "\n",
        "# Data: Cost, nutritional content, and requirements\n",
        "cost_data = {'Apple': 1, 'Bread': 0.5, 'Milk': 2, 'Egg': 0.3}\n",
        "nutrients_data = {\n",
        "    ('Apple', 'Calories'): 100, ('Apple', 'Protein'): 0.5, ('Apple', 'Vitamins'): 2,\n",
        "    ('Bread', 'Calories'): 200, ('Bread', 'Protein'): 4, ('Bread', 'Vitamins'): 0,\n",
        "    ('Milk', 'Calories'): 150, ('Milk', 'Protein'): 8, ('Milk', 'Vitamins'): 10,\n",
        "    ('Egg', 'Calories'): 70, ('Egg', 'Protein'): 6, ('Egg', 'Vitamins'): 0\n",
        "}\n",
        "\n",
        "requirements_data = {'Calories': 500, 'Protein': 50, 'Vitamins': 100}\n"
      ]
    },
    {
      "cell_type": "markdown",
      "metadata": {
        "id": "K8x8AhxVxZtA"
      },
      "source": [
        "### Model\n",
        "\n",
        "Define decision variables: $y_1$ for Apples, $y_2$ for Bread, $y_3$ for Milk, $y_4$ for Eggs. $y_i$ represents the quantity of each food item.\n",
        "\n",
        "Minimize: $y_1 + 0.5y_2 + 2y_3 + 0.3y_4$\n",
        "\n",
        "Subject to:\n",
        "- $100y_1 + 200y_2 + 150y_3 + 70y_4 \\geq 500$\n",
        "- $0.5y_1 + 4y_2 + 8y_3 + 6y_4 \\geq 50$\n",
        "- $2y_1 + 0y_2 + 10y_3 + 0y_4 \\geq 100$\n",
        "\n",
        "Constraints: $y_1, y_2, y_3, y_4 \\geq 0$\n",
        "\n",
        "The three listed constraints help to ensure dietary requirements for calories, protein, and vitamins are met.\n",
        "\n",
        "### Implementation\n"
      ]
    },
    {
      "cell_type": "code",
      "execution_count": 14,
      "metadata": {
        "colab": {
          "base_uri": "https://localhost:8080/"
        },
        "id": "RmFmtvrixZtA",
        "outputId": "e281eac8-8e82-4935-e25e-9c8e2996ebb0"
      },
      "outputs": [
        {
          "output_type": "stream",
          "name": "stdout",
          "text": [
            "Apple: 0.0\n",
            "Bread: 0.0\n",
            "Milk: 10.0\n",
            "Egg: 0.0\n",
            "\n",
            " Total Cost: 20.0\n"
          ]
        }
      ],
      "source": [
        "# Parameters\n",
        "model.cost = Param(model.foods, initialize=cost_data)\n",
        "model.content = Param(model.foods, model.nutrients,\n",
        "                        initialize=nutrients_data)\n",
        "model.requirements = Param(model.nutrients,\n",
        "                            initialize=requirements_data)\n",
        "\n",
        "# Decision Variables\n",
        "model.x = Var(model.foods, domain=NonNegativeReals)\n",
        "\n",
        "# Nutrient Constraints\n",
        "def nutrient_rule(model, nutrient):\n",
        "    return sum(model.content[f, nutrient] * model.x[f]\n",
        "                for f in model.foods) >= model.requirements[nutrient]\n",
        "model.NutrientConstraints = Constraint(model.nutrients, rule=nutrient_rule)\n",
        "\n",
        "# Objective Function\n",
        "model.total_cost = Objective(expr=\n",
        "    sum(model.cost[f] * model.x[f] for f in model.foods),\n",
        "    sense=minimize)\n",
        "\n",
        "# Solve the model using a solver\n",
        "# SolverFactory(\"glpk\").solve(model)\n",
        "# SolverFactory(\"cbc\").solve(model)\n",
        "# SolverFactory(\"ipopt\").solve(model)\n",
        "SolverFactory(\"appsi_highs\").solve(model)\n",
        "\n",
        "# Print the solution\n",
        "for f in model.foods:\n",
        "    print(f\"{f}: {model.x[f].value}\")\n",
        "\n",
        "# Print the total cost\n",
        "print('\\n',f\"Total Cost: {model.total_cost.expr()}\")"
      ]
    },
    {
      "cell_type": "markdown",
      "metadata": {
        "id": "ErS1kuXPxZtA"
      },
      "source": [
        "## 2. Binary Knapsack Problem\n",
        "\n",
        "### Problem Statement\n",
        "\n",
        "Consider a hiker who needs to choose the most valuable items for a hike without overloading the backpack.\n",
        "\n",
        "- Items:\n",
        "  - Tent (Value: $120, Weight: 2kg)\n",
        "  - Stove (Value: $80, Weight: 1kg)\n",
        "  - Food (Value: $60, Weight: 1kg)\n",
        "\n",
        "- Backpack capacity: 3.5kg\n",
        "\n",
        "Objective: Maximize the value of items in the backpack.\n"
      ]
    },
    {
      "cell_type": "code",
      "execution_count": 23,
      "metadata": {
        "id": "krQsnj1OxZtB"
      },
      "outputs": [],
      "source": [
        "from pyomo.environ import *\n",
        "\n",
        "# Model\n",
        "model = ConcreteModel()\n",
        "\n",
        "# Sets\n",
        "model.item = Set(initialize=['Tent', 'Stove', 'Food'])\n",
        "\n",
        "# Data\n",
        "items_value = {\n",
        "    ('Tent'): 120,\n",
        "    ('Stove'): 80,\n",
        "    ('Food'): 60\n",
        "}\n",
        "\n",
        "items_weight = {\n",
        "    ('Tent'): 2,\n",
        "    ('Stove'): 1,\n",
        "    ('Food'): 1\n",
        "}\n",
        "\n",
        "pack_capacity = 3.5\n"
      ]
    },
    {
      "cell_type": "markdown",
      "metadata": {
        "id": "krYOSsB5xZtB"
      },
      "source": [
        "### Model\n",
        "\n",
        "Define binary decision variables: $x_1$ for Tent, $x_2$ for Stove, $x_3$ for Food.\n",
        "> $x_i = 1$ if the item is chosen, and 0 otherwise.\n",
        "\n",
        "Maximize $120x_1 + 80x_2 + 60x_3$\n",
        "\n",
        "Subject to $2x_1 + x_2 + x_3 \\leq 3.5$\n",
        "\n",
        "where $x_1, x_2, x_3 \\in \\{0, 1\\}$.\n",
        "\n",
        "\n",
        "\n",
        "### Implementation"
      ]
    },
    {
      "cell_type": "code",
      "execution_count": 24,
      "metadata": {
        "colab": {
          "base_uri": "https://localhost:8080/"
        },
        "id": "P9maviaAxZtB",
        "outputId": "6418df0e-a870-479a-c9f3-c58d99852f1a"
      },
      "outputs": [
        {
          "output_type": "stream",
          "name": "stdout",
          "text": [
            "Tent: 1.0\n",
            "Stove: 1.0\n",
            "Food: 0.0\n",
            "\n",
            " Total Value: 200.0 \n",
            "\n",
            "'1 means that the item is selected'\n"
          ]
        }
      ],
      "source": [
        "# Parameters\n",
        "model.items_value = Param(model.item,initialize=items_value)\n",
        "model.items_weight = Param(model.item,initialize=items_weight)\n",
        "model.pack_capacity = Param(initialize=pack_capacity)\n",
        "\n",
        "# Decision Variables (Note: defined to be Binary)\n",
        "model.x = Var(model.item, domain=Binary)\n",
        "\n",
        "# Weight Constraint\n",
        "model.WeightConstraint = Constraint(expr = sum(model.items_weight[i] * model.x[i]\n",
        "                for i in model.item) <= model.pack_capacity)\n",
        "\n",
        "# Objective Function\n",
        "model.total_value = Objective(expr=\n",
        "    sum(model.items_value[i] * model.x[i] for i in model.item),\n",
        "    sense=maximize)\n",
        "\n",
        "# Solve the model using a solver\n",
        "SolverFactory(\"glpk\").solve(model)\n",
        "# SolverFactory(\"cbc\").solve(model)\n",
        "# SolverFactory(\"ipopt\").solve(model)\n",
        "# SolverFactory(\"appsi_highs\").solve(model)\n",
        "\n",
        "# Print the solution\n",
        "for i in model.item:\n",
        "    print(f\"{i}: {model.x[i].value}\")\n",
        "\n",
        "# Print the total cost\n",
        "print('\\n',f\"Total Value: {model.total_value.expr()}\",'\\n')\n",
        "\n",
        "print(f\"'1 means that the item is selected'\")"
      ]
    }
  ],
  "metadata": {
    "kernelspec": {
      "display_name": ".venv",
      "language": "python",
      "name": "python3"
    },
    "language_info": {
      "codemirror_mode": {
        "name": "ipython",
        "version": 3
      },
      "file_extension": ".py",
      "mimetype": "text/x-python",
      "name": "python",
      "nbconvert_exporter": "python",
      "pygments_lexer": "ipython3",
      "version": "3.12.2"
    },
    "colab": {
      "provenance": []
    }
  },
  "nbformat": 4,
  "nbformat_minor": 0
}